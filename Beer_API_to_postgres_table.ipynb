{
 "cells": [
  {
   "cell_type": "code",
   "execution_count": 83,
   "id": "ranging-horse",
   "metadata": {},
   "outputs": [],
   "source": [
    "# Uses  this API - https://punkapi.com/documentation/v2\n",
    "# From  - https://hakibenita.com/fast-load-data-python-postgresql"
   ]
  },
  {
   "cell_type": "code",
   "execution_count": 72,
   "id": "guilty-campaign",
   "metadata": {},
   "outputs": [],
   "source": [
    "import datetime\n",
    "from typing import Iterator, Dict, Any\n",
    "from urllib.parse import urlencode\n",
    "import requests\n",
    "import psycopg2"
   ]
  },
  {
   "cell_type": "code",
   "execution_count": 73,
   "id": "careful-force",
   "metadata": {},
   "outputs": [],
   "source": [
    "def parse_first_brewed(text:str) -> datetime.date:\n",
    "    \"\"\"\n",
    "        parse dates to for correct format of datetime.date(2007,9,1)\n",
    "        from ('09/2007') or ('2007')\n",
    "    \"\"\"\n",
    "    parts = text.split('/')\n",
    "    if len(parts) == 2:\n",
    "        return datetime.date(int(parts[1]), int(parts[0]),1)\n",
    "    elif len(parts) == 1:\n",
    "        return datetime.date(int(parts[0]),1,1)\n",
    "    else:\n",
    "        assert False, 'Unknow date format'"
   ]
  },
  {
   "cell_type": "code",
   "execution_count": 74,
   "id": "amino-visitor",
   "metadata": {},
   "outputs": [],
   "source": [
    "def iter_beers_from_api(page_size: int=5) -> Iterator[Dict[str, Any]]:\n",
    "    \"\"\"\n",
    "        Initiates session with api and pulls data\n",
    "    \"\"\"\n",
    "    session = requests.Session()\n",
    "    page = 1\n",
    "    while True:\n",
    "        response = session.get('https://api.punkapi.com/v2/beers?' + urlencode({\n",
    "            'page': page,\n",
    "            'per_page': page_size\n",
    "        }))\n",
    "        response.raise_for_status()\n",
    "        data = response.json()\n",
    "        if not data:\n",
    "            break\n",
    "            \n",
    "        yield from data\n",
    "        \n",
    "        page += 1     "
   ]
  },
  {
   "cell_type": "code",
   "execution_count": 75,
   "id": "external-hamburg",
   "metadata": {},
   "outputs": [],
   "source": [
    "beers = iter_beers_from_api()"
   ]
  },
  {
   "cell_type": "code",
   "execution_count": 76,
   "id": "nearby-couple",
   "metadata": {},
   "outputs": [
    {
     "data": {
      "text/plain": [
       "{'id': 1,\n",
       " 'name': 'Buzz',\n",
       " 'tagline': 'A Real Bitter Experience.',\n",
       " 'first_brewed': '09/2007',\n",
       " 'description': 'A light, crisp and bitter IPA brewed with English and American hops. A small batch brewed only once.',\n",
       " 'image_url': 'https://images.punkapi.com/v2/keg.png',\n",
       " 'abv': 4.5,\n",
       " 'ibu': 60,\n",
       " 'target_fg': 1010,\n",
       " 'target_og': 1044,\n",
       " 'ebc': 20,\n",
       " 'srm': 10,\n",
       " 'ph': 4.4,\n",
       " 'attenuation_level': 75,\n",
       " 'volume': {'value': 20, 'unit': 'litres'},\n",
       " 'boil_volume': {'value': 25, 'unit': 'litres'},\n",
       " 'method': {'mash_temp': [{'temp': {'value': 64, 'unit': 'celsius'},\n",
       "    'duration': 75}],\n",
       "  'fermentation': {'temp': {'value': 19, 'unit': 'celsius'}},\n",
       "  'twist': None},\n",
       " 'ingredients': {'malt': [{'name': 'Maris Otter Extra Pale',\n",
       "    'amount': {'value': 3.3, 'unit': 'kilograms'}},\n",
       "   {'name': 'Caramalt', 'amount': {'value': 0.2, 'unit': 'kilograms'}},\n",
       "   {'name': 'Munich', 'amount': {'value': 0.4, 'unit': 'kilograms'}}],\n",
       "  'hops': [{'name': 'Fuggles',\n",
       "    'amount': {'value': 25, 'unit': 'grams'},\n",
       "    'add': 'start',\n",
       "    'attribute': 'bitter'},\n",
       "   {'name': 'First Gold',\n",
       "    'amount': {'value': 25, 'unit': 'grams'},\n",
       "    'add': 'start',\n",
       "    'attribute': 'bitter'},\n",
       "   {'name': 'Fuggles',\n",
       "    'amount': {'value': 37.5, 'unit': 'grams'},\n",
       "    'add': 'middle',\n",
       "    'attribute': 'flavour'},\n",
       "   {'name': 'First Gold',\n",
       "    'amount': {'value': 37.5, 'unit': 'grams'},\n",
       "    'add': 'middle',\n",
       "    'attribute': 'flavour'},\n",
       "   {'name': 'Cascade',\n",
       "    'amount': {'value': 37.5, 'unit': 'grams'},\n",
       "    'add': 'end',\n",
       "    'attribute': 'flavour'}],\n",
       "  'yeast': 'Wyeast 1056 - American Ale™'},\n",
       " 'food_pairing': ['Spicy chicken tikka masala',\n",
       "  'Grilled chicken quesadilla',\n",
       "  'Caramel toffee cake'],\n",
       " 'brewers_tips': 'The earthy and floral aromas from the hops can be overpowering. Drop a little Cascade in at the end of the boil to lift the profile with a bit of citrus.',\n",
       " 'contributed_by': 'Sam Mason <samjbmason>'}"
      ]
     },
     "execution_count": 76,
     "metadata": {},
     "output_type": "execute_result"
    }
   ],
   "source": [
    "next(beers)"
   ]
  },
  {
   "cell_type": "code",
   "execution_count": 77,
   "id": "front-young",
   "metadata": {},
   "outputs": [],
   "source": [
    "connection = psycopg2.connect(\n",
    "    host='localhost',\n",
    "    database='testload',\n",
    "    user='postgres',\n",
    "    password='password@123',\n",
    ")\n",
    "connection.autocommit = True"
   ]
  },
  {
   "cell_type": "code",
   "execution_count": 78,
   "id": "pediatric-rochester",
   "metadata": {},
   "outputs": [],
   "source": [
    "def create_staging_table(cursor) -> None:\n",
    "    cursor.execute(\"\"\"\n",
    "        DROP TABLE IF EXISTS staging_beers;\n",
    "        CREATE UNLOGGED TABLE staging_beers (\n",
    "            id INTEGER,\n",
    "            name TEXT,\n",
    "            tagline TEXT,\n",
    "            first_brewed DATE,\n",
    "            description TEXT,\n",
    "            image_url TEXT,\n",
    "            abv DECIMAL,\n",
    "            ibu DECIMAL,\n",
    "            target_fg DECIMAL,\n",
    "            target_og DECIMAL,\n",
    "            ebc DECIMAL,\n",
    "            srm DECIMAL,\n",
    "            ph DECIMAL,\n",
    "            attenuation_level DECIMAL,\n",
    "            brewers_tips TEXT,\n",
    "            volume INTEGER\n",
    "        );\n",
    "    \"\"\")"
   ]
  },
  {
   "cell_type": "code",
   "execution_count": 80,
   "id": "pending-preliminary",
   "metadata": {},
   "outputs": [
    {
     "name": "stdout",
     "output_type": "stream",
     "text": [
      "We only have data of 325 beers\n"
     ]
    }
   ],
   "source": [
    "beers = list(iter_beers_from_api())\n",
    "print(f'We only have data of {len(beers)} beers') "
   ]
  },
  {
   "cell_type": "code",
   "execution_count": 81,
   "id": "contrary-present",
   "metadata": {},
   "outputs": [],
   "source": [
    "def insert_one_by_one(connection, beers: Iterator[Dict[str, Any]]) -> None:\n",
    "    with connection.cursor() as cursor:\n",
    "        create_staging_table(cursor)\n",
    "        for beer in beers:\n",
    "            cursor.execute(\"\"\"\n",
    "                INSERT INTO staging_beers VALUES (\n",
    "                    %(id)s,\n",
    "                    %(name)s,\n",
    "                    %(tagline)s,\n",
    "                    %(first_brewed)s,\n",
    "                    %(description)s,\n",
    "                    %(image_url)s,\n",
    "                    %(abv)s,\n",
    "                    %(ibu)s,\n",
    "                    %(target_fg)s,\n",
    "                    %(target_og)s,\n",
    "                    %(ebc)s,\n",
    "                    %(srm)s,\n",
    "                    %(ph)s,\n",
    "                    %(attenuation_level)s,\n",
    "                    %(brewers_tips)s,\n",
    "                    %(volume)s\n",
    "                );\n",
    "            \"\"\", {\n",
    "                **beer,\n",
    "                'first_brewed': parse_first_brewed(beer['first_brewed']),\n",
    "                'volume': beer['volume']['value']\n",
    "            })"
   ]
  },
  {
   "cell_type": "code",
   "execution_count": 82,
   "id": "ethical-collar",
   "metadata": {},
   "outputs": [],
   "source": [
    "insert_one_by_one(connection, beers)"
   ]
  },
  {
   "cell_type": "code",
   "execution_count": null,
   "id": "bronze-indiana",
   "metadata": {},
   "outputs": [],
   "source": []
  }
 ],
 "metadata": {
  "kernelspec": {
   "display_name": "Python 3",
   "language": "python",
   "name": "python3"
  },
  "language_info": {
   "codemirror_mode": {
    "name": "ipython",
    "version": 3
   },
   "file_extension": ".py",
   "mimetype": "text/x-python",
   "name": "python",
   "nbconvert_exporter": "python",
   "pygments_lexer": "ipython3",
   "version": "3.7.2"
  }
 },
 "nbformat": 4,
 "nbformat_minor": 5
}
