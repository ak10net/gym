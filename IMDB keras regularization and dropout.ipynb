{
 "cells": [
  {
   "cell_type": "code",
   "execution_count": 1,
   "metadata": {},
   "outputs": [
    {
     "name": "stderr",
     "output_type": "stream",
     "text": [
      "WARNING: Logging before flag parsing goes to stderr.\n",
      "W0814 16:40:41.509893  1032 __init__.py:689] \n",
      "\n",
      "  TensorFlow's `tf-nightly` package will soon be updated to TensorFlow 2.0.\n",
      "\n",
      "  Please upgrade your code to TensorFlow 2.0:\n",
      "    * https://www.tensorflow.org/beta/guide/migration_guide\n",
      "\n",
      "  Or install the latest stable TensorFlow 1.X release:\n",
      "    * `pip install -U \"tensorflow==1.*\"`\n",
      "\n",
      "  Otherwise your code may be broken by the change.\n",
      "\n",
      "  \n"
     ]
    }
   ],
   "source": [
    "import tensorflow as tf\n",
    "from tensorflow import keras\n",
    "import numpy as np\n",
    "import matplotlib.pyplot as plt\n",
    "%matplotlib inline"
   ]
  },
  {
   "cell_type": "code",
   "execution_count": 3,
   "metadata": {},
   "outputs": [],
   "source": [
    "NUM_WORDS = 10000\n",
    "\n",
    "(train_data, train_labels), (test_data, test_labels) = keras.datasets.imdb.load_data(num_words=NUM_WORDS)"
   ]
  },
  {
   "cell_type": "code",
   "execution_count": 4,
   "metadata": {},
   "outputs": [],
   "source": [
    "def multi_hot_sequences(sequences, dimension):\n",
    "    results = np.zeros((len(sequences), dimension))\n",
    "    for i,  word_indices in enumerate(sequences):\n",
    "        results[i, word_indices] = 1.0\n",
    "    return results\n",
    "\n",
    "train_data = multi_hot_sequences(train_data, dimension=NUM_WORDS)\n",
    "test_data = multi_hot_sequences(test_data, dimension=NUM_WORDS)"
   ]
  },
  {
   "cell_type": "code",
   "execution_count": 5,
   "metadata": {},
   "outputs": [
    {
     "data": {
      "text/plain": [
       "[<matplotlib.lines.Line2D at 0x17eab8304a8>]"
      ]
     },
     "execution_count": 5,
     "metadata": {},
     "output_type": "execute_result"
    },
    {
     "data": {
      "image/png": "[encoded data removed]",
      "text/plain": [
       "<Figure size 432x288 with 1 Axes>"
      ]
     },
     "metadata": {
      "needs_background": "light"
     },
     "output_type": "display_data"
    }
   ],
   "source": [
    "plt.plot(train_data[0])"
   ]
  },
  {
   "cell_type": "code",
   "execution_count": 7,
   "metadata": {},
   "outputs": [
    {
     "name": "stderr",
     "output_type": "stream",
     "text": [
      "W0814 17:11:50.612942  1032 deprecation.py:323] From c:\\users\\ankit.dubey\\appdata\\local\\programs\\python\\python37\\lib\\site-packages\\tensorflow_core\\python\\ops\\nn_impl.py:183: where (from tensorflow.python.ops.array_ops) is deprecated and will be removed in a future version.\n",
      "Instructions for updating:\n",
      "Use tf.where in 2.0, which has the same broadcast rule as np.where\n"
     ]
    },
    {
     "name": "stdout",
     "output_type": "stream",
     "text": [
      "Model: \"sequential_1\"\n",
      "_________________________________________________________________\n",
      "Layer (type)                 Output Shape              Param #   \n",
      "=================================================================\n",
      "dense_3 (Dense)              (None, 16)                160016    \n",
      "_________________________________________________________________\n",
      "dense_4 (Dense)              (None, 16)                272       \n",
      "_________________________________________________________________\n",
      "dense_5 (Dense)              (None, 1)                 17        \n",
      "=================================================================\n",
      "Total params: 160,305\n",
      "Trainable params: 160,305\n",
      "Non-trainable params: 0\n",
      "_________________________________________________________________\n"
     ]
    }
   ],
   "source": [
    "baseline_model = keras.Sequential([\n",
    "    keras.layers.Dense(16, activation=tf.nn.relu, input_shape=(NUM_WORDS,)),\n",
    "    keras.layers.Dense(16, activation=tf.nn.relu),\n",
    "    keras.layers.Dense(1, activation=tf.nn.sigmoid)\n",
    "])\n",
    "\n",
    "baseline_model.compile(optimizer='adam',\n",
    "                      loss='binary_crossentropy',\n",
    "                      metrics = ['accuracy', 'binary_crossentropy'])\n",
    "\n",
    "baseline_model.summary()"
   ]
  },
  {
   "cell_type": "code",
   "execution_count": 8,
   "metadata": {
    "scrolled": true
   },
   "outputs": [
    {
     "name": "stderr",
     "output_type": "stream",
     "text": [
      "W0814 17:13:27.388705  1032 deprecation.py:323] From c:\\users\\ankit.dubey\\appdata\\local\\programs\\python\\python37\\lib\\site-packages\\tensorflow_core\\python\\keras\\optimizer_v2\\optimizer_v2.py:466: BaseResourceVariable.constraint (from tensorflow.python.ops.resource_variable_ops) is deprecated and will be removed in a future version.\n",
      "Instructions for updating:\n",
      "Apply a constraint manually following the optimizer update step.\n"
     ]
    },
    {
     "name": "stdout",
     "output_type": "stream",
     "text": [
      "Train on 25000 samples, validate on 25000 samples\n",
      "Epoch 1/20\n",
      "Epoch 1/20\n",
      "25000/25000 - 4s - loss: 0.3256 - acc: 0.8778 - binary_crossentropy: 0.3256\n",
      "25000/25000 - 8s - loss: 0.4708 - acc: 0.8117 - binary_crossentropy: 0.4708 - val_loss: 0.3256 - val_acc: 0.8778 - val_binary_crossentropy: 0.3256\n",
      "Epoch 2/20\n",
      "Epoch 1/20\n",
      "25000/25000 - 3s - loss: 0.2835 - acc: 0.8883 - binary_crossentropy: 0.2835\n",
      "25000/25000 - 7s - loss: 0.2428 - acc: 0.9131 - binary_crossentropy: 0.2428 - val_loss: 0.2835 - val_acc: 0.8883 - val_binary_crossentropy: 0.2835\n",
      "Epoch 3/20\n",
      "Epoch 1/20\n",
      "25000/25000 - 3s - loss: 0.2924 - acc: 0.8833 - binary_crossentropy: 0.2924\n",
      "25000/25000 - 7s - loss: 0.1790 - acc: 0.9377 - binary_crossentropy: 0.1790 - val_loss: 0.2924 - val_acc: 0.8833 - val_binary_crossentropy: 0.2924\n",
      "Epoch 4/20\n",
      "Epoch 1/20\n",
      "25000/25000 - 3s - loss: 0.3265 - acc: 0.8739 - binary_crossentropy: 0.3265\n",
      "25000/25000 - 7s - loss: 0.1459 - acc: 0.9498 - binary_crossentropy: 0.1459 - val_loss: 0.3265 - val_acc: 0.8739 - val_binary_crossentropy: 0.3265\n",
      "Epoch 5/20\n",
      "Epoch 1/20\n",
      "25000/25000 - 3s - loss: 0.3391 - acc: 0.8735 - binary_crossentropy: 0.3391\n",
      "25000/25000 - 6s - loss: 0.1209 - acc: 0.9588 - binary_crossentropy: 0.1209 - val_loss: 0.3391 - val_acc: 0.8735 - val_binary_crossentropy: 0.3391\n",
      "Epoch 6/20\n",
      "Epoch 1/20\n",
      "25000/25000 - 3s - loss: 0.3687 - acc: 0.8710 - binary_crossentropy: 0.3687\n",
      "25000/25000 - 7s - loss: 0.1005 - acc: 0.9685 - binary_crossentropy: 0.1005 - val_loss: 0.3687 - val_acc: 0.8710 - val_binary_crossentropy: 0.3687\n",
      "Epoch 7/20\n",
      "Epoch 1/20\n",
      "25000/25000 - 3s - loss: 0.4056 - acc: 0.8667 - binary_crossentropy: 0.4056\n",
      "25000/25000 - 7s - loss: 0.0847 - acc: 0.9744 - binary_crossentropy: 0.0847 - val_loss: 0.4056 - val_acc: 0.8667 - val_binary_crossentropy: 0.4056\n",
      "Epoch 8/20\n",
      "Epoch 1/20\n",
      "25000/25000 - 3s - loss: 0.4436 - acc: 0.8627 - binary_crossentropy: 0.4436\n",
      "25000/25000 - 6s - loss: 0.0721 - acc: 0.9798 - binary_crossentropy: 0.0721 - val_loss: 0.4436 - val_acc: 0.8627 - val_binary_crossentropy: 0.4436\n",
      "Epoch 9/20\n",
      "Epoch 1/20\n",
      "25000/25000 - 3s - loss: 0.4828 - acc: 0.8616 - binary_crossentropy: 0.4828\n",
      "25000/25000 - 6s - loss: 0.0578 - acc: 0.9855 - binary_crossentropy: 0.0578 - val_loss: 0.4828 - val_acc: 0.8616 - val_binary_crossentropy: 0.4828\n",
      "Epoch 10/20\n",
      "Epoch 1/20\n",
      "25000/25000 - 3s - loss: 0.5249 - acc: 0.8568 - binary_crossentropy: 0.5249\n",
      "25000/25000 - 7s - loss: 0.0476 - acc: 0.9896 - binary_crossentropy: 0.0476 - val_loss: 0.5249 - val_acc: 0.8568 - val_binary_crossentropy: 0.5249\n",
      "Epoch 11/20\n",
      "Epoch 1/20\n",
      "25000/25000 - 3s - loss: 0.5674 - acc: 0.8567 - binary_crossentropy: 0.5674\n",
      "25000/25000 - 7s - loss: 0.0364 - acc: 0.9932 - binary_crossentropy: 0.0364 - val_loss: 0.5674 - val_acc: 0.8567 - val_binary_crossentropy: 0.5674\n",
      "Epoch 12/20\n",
      "Epoch 1/20\n",
      "25000/25000 - 3s - loss: 0.6087 - acc: 0.8550 - binary_crossentropy: 0.6087\n",
      "25000/25000 - 7s - loss: 0.0278 - acc: 0.9958 - binary_crossentropy: 0.0278 - val_loss: 0.6087 - val_acc: 0.8550 - val_binary_crossentropy: 0.6087\n",
      "Epoch 13/20\n",
      "Epoch 1/20\n",
      "25000/25000 - 3s - loss: 0.6536 - acc: 0.8523 - binary_crossentropy: 0.6536\n",
      "25000/25000 - 7s - loss: 0.0214 - acc: 0.9976 - binary_crossentropy: 0.0214 - val_loss: 0.6536 - val_acc: 0.8523 - val_binary_crossentropy: 0.6536\n",
      "Epoch 14/20\n",
      "Epoch 1/20\n",
      "25000/25000 - 3s - loss: 0.6967 - acc: 0.8512 - binary_crossentropy: 0.6967\n",
      "25000/25000 - 7s - loss: 0.0161 - acc: 0.9986 - binary_crossentropy: 0.0161 - val_loss: 0.6967 - val_acc: 0.8512 - val_binary_crossentropy: 0.6967\n",
      "Epoch 15/20\n",
      "Epoch 1/20\n",
      "25000/25000 - 3s - loss: 0.7234 - acc: 0.8509 - binary_crossentropy: 0.7234\n",
      "25000/25000 - 7s - loss: 0.0121 - acc: 0.9992 - binary_crossentropy: 0.0121 - val_loss: 0.7234 - val_acc: 0.8509 - val_binary_crossentropy: 0.7234\n",
      "Epoch 16/20\n",
      "Epoch 1/20\n",
      "25000/25000 - 3s - loss: 0.7620 - acc: 0.8504 - binary_crossentropy: 0.7620\n",
      "25000/25000 - 7s - loss: 0.0093 - acc: 0.9996 - binary_crossentropy: 0.0093 - val_loss: 0.7620 - val_acc: 0.8504 - val_binary_crossentropy: 0.7620\n",
      "Epoch 17/20\n",
      "Epoch 1/20\n",
      "25000/25000 - 3s - loss: 0.7894 - acc: 0.8509 - binary_crossentropy: 0.7894\n",
      "25000/25000 - 7s - loss: 0.0073 - acc: 0.9999 - binary_crossentropy: 0.0073 - val_loss: 0.7894 - val_acc: 0.8509 - val_binary_crossentropy: 0.7894\n",
      "Epoch 18/20\n",
      "Epoch 1/20\n",
      "25000/25000 - 3s - loss: 0.8238 - acc: 0.8503 - binary_crossentropy: 0.8238\n",
      "25000/25000 - 7s - loss: 0.0058 - acc: 0.9999 - binary_crossentropy: 0.0058 - val_loss: 0.8238 - val_acc: 0.8503 - val_binary_crossentropy: 0.8238\n",
      "Epoch 19/20\n",
      "Epoch 1/20\n",
      "25000/25000 - 3s - loss: 0.8477 - acc: 0.8498 - binary_crossentropy: 0.8477\n",
      "25000/25000 - 7s - loss: 0.0047 - acc: 1.0000 - binary_crossentropy: 0.0047 - val_loss: 0.8477 - val_acc: 0.8498 - val_binary_crossentropy: 0.8477\n",
      "Epoch 20/20\n",
      "Epoch 1/20\n",
      "25000/25000 - 3s - loss: 0.8745 - acc: 0.8493 - binary_crossentropy: 0.8745\n",
      "25000/25000 - 7s - loss: 0.0040 - acc: 1.0000 - binary_crossentropy: 0.0040 - val_loss: 0.8745 - val_acc: 0.8493 - val_binary_crossentropy: 0.8745\n"
     ]
    }
   ],
   "source": [
    "baseline_history = baseline_model.fit(train_data,\n",
    "                                     train_labels,\n",
    "                                     epochs=20,\n",
    "                                     batch_size=512,\n",
    "                                     validation_data=(test_data, test_labels),\n",
    "                                     verbose=2)"
   ]
  },
  {
   "cell_type": "code",
   "execution_count": 9,
   "metadata": {},
   "outputs": [
    {
     "name": "stdout",
     "output_type": "stream",
     "text": [
      "Model: \"sequential_2\"\n",
      "_________________________________________________________________\n",
      "Layer (type)                 Output Shape              Param #   \n",
      "=================================================================\n",
      "dense_6 (Dense)              (None, 4)                 40004     \n",
      "_________________________________________________________________\n",
      "dense_7 (Dense)              (None, 4)                 20        \n",
      "_________________________________________________________________\n",
      "dense_8 (Dense)              (None, 1)                 5         \n",
      "=================================================================\n",
      "Total params: 40,029\n",
      "Trainable params: 40,029\n",
      "Non-trainable params: 0\n",
      "_________________________________________________________________\n"
     ]
    }
   ],
   "source": [
    "smaller_model = keras.Sequential([\n",
    "    keras.layers.Dense(4, activation=tf.nn.relu, input_shape=(NUM_WORDS,)),\n",
    "    keras.layers.Dense(4, activation=tf.nn.relu),\n",
    "    keras.layers.Dense(1, activation=tf.nn.sigmoid)\n",
    "])\n",
    "\n",
    "smaller_model.compile(optimizer='adam',\n",
    "                     loss='binary_crossentropy',\n",
    "                     metrics=['accuracy', 'binary_crossentropy'])\n",
    "\n",
    "smaller_model.summary()"
   ]
  },
  {
   "cell_type": "code",
   "execution_count": 10,
   "metadata": {
    "scrolled": true
   },
   "outputs": [
    {
     "name": "stdout",
     "output_type": "stream",
     "text": [
      "Train on 25000 samples, validate on 25000 samples\n",
      "Epoch 1/20\n",
      "Epoch 1/20\n",
      "25000/25000 - 3s - loss: 0.5314 - acc: 0.7781 - binary_crossentropy: 0.5314\n",
      "25000/25000 - 7s - loss: 0.5911 - acc: 0.7221 - binary_crossentropy: 0.5911 - val_loss: 0.5314 - val_acc: 0.7781 - val_binary_crossentropy: 0.5314\n",
      "Epoch 2/20\n",
      "Epoch 1/20\n",
      "25000/25000 - 3s - loss: 0.4897 - acc: 0.8313 - binary_crossentropy: 0.4897\n",
      "25000/25000 - 7s - loss: 0.4858 - acc: 0.8512 - binary_crossentropy: 0.4858 - val_loss: 0.4897 - val_acc: 0.8313 - val_binary_crossentropy: 0.4897\n",
      "Epoch 3/20\n",
      "Epoch 1/20\n",
      "25000/25000 - 3s - loss: 0.4699 - acc: 0.8455 - binary_crossentropy: 0.4699\n",
      "25000/25000 - 6s - loss: 0.4409 - acc: 0.8913 - binary_crossentropy: 0.4409 - val_loss: 0.4699 - val_acc: 0.8455 - val_binary_crossentropy: 0.4699\n",
      "Epoch 4/20\n",
      "Epoch 1/20\n",
      "25000/25000 - 3s - loss: 0.4533 - acc: 0.8609 - binary_crossentropy: 0.4533\n",
      "25000/25000 - 6s - loss: 0.4099 - acc: 0.9123 - binary_crossentropy: 0.4099 - val_loss: 0.4533 - val_acc: 0.8609 - val_binary_crossentropy: 0.4533\n",
      "Epoch 5/20\n",
      "Epoch 1/20\n",
      "25000/25000 - 3s - loss: 0.4509 - acc: 0.8537 - binary_crossentropy: 0.4509\n",
      "25000/25000 - 6s - loss: 0.3854 - acc: 0.9286 - binary_crossentropy: 0.3854 - val_loss: 0.4509 - val_acc: 0.8537 - val_binary_crossentropy: 0.4509\n",
      "Epoch 6/20\n",
      "Epoch 1/20\n",
      "25000/25000 - 3s - loss: 0.4335 - acc: 0.8734 - binary_crossentropy: 0.4335\n",
      "25000/25000 - 6s - loss: 0.3638 - acc: 0.9388 - binary_crossentropy: 0.3638 - val_loss: 0.4335 - val_acc: 0.8734 - val_binary_crossentropy: 0.4335\n",
      "Epoch 7/20\n",
      "Epoch 1/20\n",
      "25000/25000 - 3s - loss: 0.4329 - acc: 0.8702 - binary_crossentropy: 0.4329\n",
      "25000/25000 - 6s - loss: 0.3443 - acc: 0.9488 - binary_crossentropy: 0.3443 - val_loss: 0.4329 - val_acc: 0.8702 - val_binary_crossentropy: 0.4329\n",
      "Epoch 8/20\n",
      "Epoch 1/20\n",
      "25000/25000 - 3s - loss: 0.4327 - acc: 0.8670 - binary_crossentropy: 0.4327\n",
      "25000/25000 - 6s - loss: 0.3274 - acc: 0.9547 - binary_crossentropy: 0.3274 - val_loss: 0.4327 - val_acc: 0.8670 - val_binary_crossentropy: 0.4327\n",
      "Epoch 9/20\n",
      "Epoch 1/20\n",
      "25000/25000 - 3s - loss: 0.4363 - acc: 0.8636 - binary_crossentropy: 0.4363\n",
      "25000/25000 - 6s - loss: 0.3117 - acc: 0.9608 - binary_crossentropy: 0.3117 - val_loss: 0.4363 - val_acc: 0.8636 - val_binary_crossentropy: 0.4363\n",
      "Epoch 10/20\n",
      "Epoch 1/20\n",
      "25000/25000 - 3s - loss: 0.4299 - acc: 0.8674 - binary_crossentropy: 0.4299\n",
      "25000/25000 - 7s - loss: 0.2973 - acc: 0.9646 - binary_crossentropy: 0.2973 - val_loss: 0.4299 - val_acc: 0.8674 - val_binary_crossentropy: 0.4299\n",
      "Epoch 11/20\n",
      "Epoch 1/20\n",
      "25000/25000 - 3s - loss: 0.4322 - acc: 0.8657 - binary_crossentropy: 0.4322\n",
      "25000/25000 - 7s - loss: 0.2839 - acc: 0.9688 - binary_crossentropy: 0.2839 - val_loss: 0.4322 - val_acc: 0.8657 - val_binary_crossentropy: 0.4322\n",
      "Epoch 12/20\n",
      "Epoch 1/20\n",
      "25000/25000 - 3s - loss: 0.4411 - acc: 0.8629 - binary_crossentropy: 0.4411\n",
      "25000/25000 - 7s - loss: 0.2718 - acc: 0.9714 - binary_crossentropy: 0.2718 - val_loss: 0.4411 - val_acc: 0.8629 - val_binary_crossentropy: 0.4411\n",
      "Epoch 13/20\n",
      "Epoch 1/20\n",
      "25000/25000 - 3s - loss: 0.4497 - acc: 0.8606 - binary_crossentropy: 0.4497\n",
      "25000/25000 - 7s - loss: 0.2603 - acc: 0.9740 - binary_crossentropy: 0.2603 - val_loss: 0.4497 - val_acc: 0.8606 - val_binary_crossentropy: 0.4497\n",
      "Epoch 14/20\n",
      "Epoch 1/20\n",
      "25000/25000 - 3s - loss: 0.4433 - acc: 0.8632 - binary_crossentropy: 0.4433\n",
      "25000/25000 - 7s - loss: 0.2491 - acc: 0.9760 - binary_crossentropy: 0.2491 - val_loss: 0.4433 - val_acc: 0.8632 - val_binary_crossentropy: 0.4433\n",
      "Epoch 15/20\n",
      "Epoch 1/20\n",
      "25000/25000 - 3s - loss: 0.4510 - acc: 0.8612 - binary_crossentropy: 0.4510\n",
      "25000/25000 - 7s - loss: 0.2394 - acc: 0.9781 - binary_crossentropy: 0.2394 - val_loss: 0.4510 - val_acc: 0.8612 - val_binary_crossentropy: 0.4510\n",
      "Epoch 16/20\n",
      "Epoch 1/20\n",
      "25000/25000 - 3s - loss: 0.4425 - acc: 0.8628 - binary_crossentropy: 0.4425\n",
      "25000/25000 - 7s - loss: 0.2297 - acc: 0.9797 - binary_crossentropy: 0.2297 - val_loss: 0.4425 - val_acc: 0.8628 - val_binary_crossentropy: 0.4425\n",
      "Epoch 17/20\n",
      "Epoch 1/20\n",
      "25000/25000 - 3s - loss: 0.4467 - acc: 0.8632 - binary_crossentropy: 0.4467\n",
      "25000/25000 - 7s - loss: 0.2205 - acc: 0.9811 - binary_crossentropy: 0.2205 - val_loss: 0.4467 - val_acc: 0.8632 - val_binary_crossentropy: 0.4467\n",
      "Epoch 18/20\n",
      "Epoch 1/20\n",
      "25000/25000 - 3s - loss: 0.4675 - acc: 0.8594 - binary_crossentropy: 0.4675\n",
      "25000/25000 - 7s - loss: 0.2122 - acc: 0.9823 - binary_crossentropy: 0.2122 - val_loss: 0.4675 - val_acc: 0.8594 - val_binary_crossentropy: 0.4675\n",
      "Epoch 19/20\n",
      "Epoch 1/20\n",
      "25000/25000 - 3s - loss: 0.4679 - acc: 0.8594 - binary_crossentropy: 0.4679\n",
      "25000/25000 - 7s - loss: 0.2045 - acc: 0.9828 - binary_crossentropy: 0.2045 - val_loss: 0.4679 - val_acc: 0.8594 - val_binary_crossentropy: 0.4679\n",
      "Epoch 20/20\n",
      "Epoch 1/20\n",
      "25000/25000 - 3s - loss: 0.4830 - acc: 0.8580 - binary_crossentropy: 0.4830\n",
      "25000/25000 - 6s - loss: 0.1971 - acc: 0.9839 - binary_crossentropy: 0.1971 - val_loss: 0.4830 - val_acc: 0.8580 - val_binary_crossentropy: 0.4830\n"
     ]
    }
   ],
   "source": [
    "smaller_history = smaller_model.fit(train_data,\n",
    "                                   train_labels,\n",
    "                                   epochs=20,\n",
    "                                   batch_size=512,\n",
    "                                   validation_data=(test_data, test_labels),\n",
    "                                   verbose=2)"
   ]
  },
  {
   "cell_type": "code",
   "execution_count": 12,
   "metadata": {},
   "outputs": [
    {
     "name": "stdout",
     "output_type": "stream",
     "text": [
      "Model: \"sequential_3\"\n",
      "_________________________________________________________________\n",
      "Layer (type)                 Output Shape              Param #   \n",
      "=================================================================\n",
      "dense_9 (Dense)              (None, 512)               5120512   \n",
      "_________________________________________________________________\n",
      "dense_10 (Dense)             (None, 512)               262656    \n",
      "_________________________________________________________________\n",
      "dense_11 (Dense)             (None, 1)                 513       \n",
      "=================================================================\n",
      "Total params: 5,383,681\n",
      "Trainable params: 5,383,681\n",
      "Non-trainable params: 0\n",
      "_________________________________________________________________\n"
     ]
    }
   ],
   "source": [
    "bigger_model = keras.models.Sequential([\n",
    "    keras.layers.Dense(512, activation=tf.nn.relu, input_shape=(NUM_WORDS,)),\n",
    "    keras.layers.Dense(512, activation=tf.nn.relu),\n",
    "    keras.layers.Dense(1, activation=tf.nn.sigmoid)\n",
    "])\n",
    "\n",
    "bigger_model.compile(optimizer='adam',\n",
    "                    loss='binary_crossentropy',\n",
    "                    metrics=['accuracy', 'binary_crossentropy'])\n",
    "\n",
    "bigger_model.summary()"
   ]
  },
  {
   "cell_type": "code",
   "execution_count": 13,
   "metadata": {
    "scrolled": true
   },
   "outputs": [
    {
     "name": "stdout",
     "output_type": "stream",
     "text": [
      "Train on 25000 samples, validate on 25000 samples\n",
      "Epoch 1/20\n",
      "Epoch 1/20\n",
      "25000/25000 - 7s - loss: 0.3192 - acc: 0.8686 - binary_crossentropy: 0.3192\n",
      "25000/25000 - 18s - loss: 0.3471 - acc: 0.8499 - binary_crossentropy: 0.3471 - val_loss: 0.3192 - val_acc: 0.8686 - val_binary_crossentropy: 0.3192\n",
      "Epoch 2/20\n",
      "Epoch 1/20\n",
      "25000/25000 - 6s - loss: 0.3279 - acc: 0.8746 - binary_crossentropy: 0.3279\n",
      "25000/25000 - 17s - loss: 0.1442 - acc: 0.9482 - binary_crossentropy: 0.1442 - val_loss: 0.3279 - val_acc: 0.8746 - val_binary_crossentropy: 0.3279\n",
      "Epoch 3/20\n",
      "Epoch 1/20\n",
      "25000/25000 - 6s - loss: 0.4367 - acc: 0.8697 - binary_crossentropy: 0.4367\n",
      "25000/25000 - 18s - loss: 0.0452 - acc: 0.9870 - binary_crossentropy: 0.0452 - val_loss: 0.4367 - val_acc: 0.8697 - val_binary_crossentropy: 0.4367\n",
      "Epoch 4/20\n",
      "Epoch 1/20\n",
      "25000/25000 - 6s - loss: 0.5867 - acc: 0.8707 - binary_crossentropy: 0.5867\n",
      "25000/25000 - 17s - loss: 0.0068 - acc: 0.9989 - binary_crossentropy: 0.0068 - val_loss: 0.5867 - val_acc: 0.8707 - val_binary_crossentropy: 0.5867\n",
      "Epoch 5/20\n",
      "Epoch 1/20\n",
      "25000/25000 - 6s - loss: 0.6748 - acc: 0.8704 - binary_crossentropy: 0.6748\n",
      "25000/25000 - 17s - loss: 0.0012 - acc: 1.0000 - binary_crossentropy: 0.0012 - val_loss: 0.6748 - val_acc: 0.8704 - val_binary_crossentropy: 0.6748\n",
      "Epoch 6/20\n",
      "Epoch 1/20\n",
      "25000/25000 - 6s - loss: 0.7146 - acc: 0.8706 - binary_crossentropy: 0.7146\n",
      "25000/25000 - 17s - loss: 2.4091e-04 - acc: 1.0000 - binary_crossentropy: 2.4091e-04 - val_loss: 0.7146 - val_acc: 0.8706 - val_binary_crossentropy: 0.7146\n",
      "Epoch 7/20\n",
      "Epoch 1/20\n",
      "25000/25000 - 6s - loss: 0.7472 - acc: 0.8705 - binary_crossentropy: 0.7472\n",
      "25000/25000 - 17s - loss: 1.4004e-04 - acc: 1.0000 - binary_crossentropy: 1.4004e-04 - val_loss: 0.7472 - val_acc: 0.8705 - val_binary_crossentropy: 0.7472\n",
      "Epoch 8/20\n",
      "Epoch 1/20\n",
      "25000/25000 - 6s - loss: 0.7710 - acc: 0.8710 - binary_crossentropy: 0.7710\n",
      "25000/25000 - 17s - loss: 9.8084e-05 - acc: 1.0000 - binary_crossentropy: 9.8084e-05 - val_loss: 0.7710 - val_acc: 0.8710 - val_binary_crossentropy: 0.7710\n",
      "Epoch 9/20\n",
      "Epoch 1/20\n",
      "25000/25000 - 6s - loss: 0.7904 - acc: 0.8710 - binary_crossentropy: 0.7904\n",
      "25000/25000 - 17s - loss: 7.4311e-05 - acc: 1.0000 - binary_crossentropy: 7.4311e-05 - val_loss: 0.7904 - val_acc: 0.8710 - val_binary_crossentropy: 0.7904\n",
      "Epoch 10/20\n",
      "Epoch 1/20\n",
      "25000/25000 - 6s - loss: 0.8069 - acc: 0.8706 - binary_crossentropy: 0.8069\n",
      "25000/25000 - 17s - loss: 5.8873e-05 - acc: 1.0000 - binary_crossentropy: 5.8873e-05 - val_loss: 0.8069 - val_acc: 0.8706 - val_binary_crossentropy: 0.8069\n",
      "Epoch 11/20\n",
      "Epoch 1/20\n",
      "25000/25000 - 6s - loss: 0.8219 - acc: 0.8711 - binary_crossentropy: 0.8219\n",
      "25000/25000 - 17s - loss: 4.7719e-05 - acc: 1.0000 - binary_crossentropy: 4.7719e-05 - val_loss: 0.8219 - val_acc: 0.8711 - val_binary_crossentropy: 0.8219\n",
      "Epoch 12/20\n",
      "Epoch 1/20\n",
      "25000/25000 - 6s - loss: 0.8353 - acc: 0.8708 - binary_crossentropy: 0.8353\n",
      "25000/25000 - 17s - loss: 3.9650e-05 - acc: 1.0000 - binary_crossentropy: 3.9650e-05 - val_loss: 0.8353 - val_acc: 0.8708 - val_binary_crossentropy: 0.8353\n",
      "Epoch 13/20\n",
      "Epoch 1/20\n",
      "25000/25000 - 6s - loss: 0.8472 - acc: 0.8706 - binary_crossentropy: 0.8472\n",
      "25000/25000 - 16s - loss: 3.3348e-05 - acc: 1.0000 - binary_crossentropy: 3.3348e-05 - val_loss: 0.8472 - val_acc: 0.8706 - val_binary_crossentropy: 0.8472\n",
      "Epoch 14/20\n",
      "Epoch 1/20\n",
      "25000/25000 - 7s - loss: 0.8586 - acc: 0.8709 - binary_crossentropy: 0.8586\n",
      "25000/25000 - 18s - loss: 2.8484e-05 - acc: 1.0000 - binary_crossentropy: 2.8484e-05 - val_loss: 0.8586 - val_acc: 0.8709 - val_binary_crossentropy: 0.8586\n",
      "Epoch 15/20\n",
      "Epoch 1/20\n",
      "25000/25000 - 7s - loss: 0.8689 - acc: 0.8706 - binary_crossentropy: 0.8689\n",
      "25000/25000 - 19s - loss: 2.4547e-05 - acc: 1.0000 - binary_crossentropy: 2.4547e-05 - val_loss: 0.8689 - val_acc: 0.8706 - val_binary_crossentropy: 0.8689\n",
      "Epoch 16/20\n",
      "Epoch 1/20\n",
      "25000/25000 - 7s - loss: 0.8790 - acc: 0.8708 - binary_crossentropy: 0.8790\n",
      "25000/25000 - 19s - loss: 2.1404e-05 - acc: 1.0000 - binary_crossentropy: 2.1404e-05 - val_loss: 0.8790 - val_acc: 0.8708 - val_binary_crossentropy: 0.8790\n",
      "Epoch 17/20\n",
      "Epoch 1/20\n",
      "25000/25000 - 7s - loss: 0.8883 - acc: 0.8708 - binary_crossentropy: 0.8883\n",
      "25000/25000 - 19s - loss: 1.8771e-05 - acc: 1.0000 - binary_crossentropy: 1.8771e-05 - val_loss: 0.8883 - val_acc: 0.8708 - val_binary_crossentropy: 0.8883\n",
      "Epoch 18/20\n",
      "Epoch 1/20\n",
      "25000/25000 - 7s - loss: 0.8971 - acc: 0.8709 - binary_crossentropy: 0.8971\n",
      "25000/25000 - 19s - loss: 1.6572e-05 - acc: 1.0000 - binary_crossentropy: 1.6572e-05 - val_loss: 0.8971 - val_acc: 0.8709 - val_binary_crossentropy: 0.8971\n",
      "Epoch 19/20\n",
      "Epoch 1/20\n",
      "25000/25000 - 7s - loss: 0.9054 - acc: 0.8707 - binary_crossentropy: 0.9054\n",
      "25000/25000 - 19s - loss: 1.4733e-05 - acc: 1.0000 - binary_crossentropy: 1.4733e-05 - val_loss: 0.9054 - val_acc: 0.8707 - val_binary_crossentropy: 0.9054\n",
      "Epoch 20/20\n",
      "Epoch 1/20\n",
      "25000/25000 - 6s - loss: 0.9135 - acc: 0.8708 - binary_crossentropy: 0.9135\n",
      "25000/25000 - 18s - loss: 1.3174e-05 - acc: 1.0000 - binary_crossentropy: 1.3174e-05 - val_loss: 0.9135 - val_acc: 0.8708 - val_binary_crossentropy: 0.9135\n"
     ]
    }
   ],
   "source": [
    "bigger_history = bigger_model.fit(train_data, train_labels,\n",
    "                                  epochs=20,\n",
    "                                  batch_size=512,\n",
    "                                  validation_data=(test_data, test_labels),\n",
    "                                  verbose=2)"
   ]
  },
  {
   "cell_type": "code",
   "execution_count": null,
   "metadata": {},
   "outputs": [],
   "source": [
    "def plot_history(histories, key='binary_crossentropy'):\n",
    "    plt.figure(figsize=(16,10))\n",
    "    \n",
    "    for name, history in histories:\n",
    "        val = plt.plot(history.epoch, history.history['val_'+key],\n",
    "                      '--', label=name.title()+' Val')\n",
    "        plt.plot()"
   ]
  },
  {
   "cell_type": "code",
   "execution_count": null,
   "metadata": {},
   "outputs": [],
   "source": []
  },
  {
   "cell_type": "code",
   "execution_count": null,
   "metadata": {},
   "outputs": [],
   "source": []
  },
  {
   "cell_type": "code",
   "execution_count": null,
   "metadata": {},
   "outputs": [],
   "source": []
  },
  {
   "cell_type": "code",
   "execution_count": null,
   "metadata": {},
   "outputs": [],
   "source": []
  },
  {
   "cell_type": "code",
   "execution_count": null,
   "metadata": {},
   "outputs": [],
   "source": []
  }
 ],
 "metadata": {
  "kernelspec": {
   "display_name": "Python 3",
   "language": "python",
   "name": "python3"
  },
  "language_info": {
   "codemirror_mode": {
    "name": "ipython",
    "version": 3
   },
   "file_extension": ".py",
   "mimetype": "text/x-python",
   "name": "python",
   "nbconvert_exporter": "python",
   "pygments_lexer": "ipython3",
   "version": "3.7.2"
  }
 },
 "nbformat": 4,
 "nbformat_minor": 2
}
