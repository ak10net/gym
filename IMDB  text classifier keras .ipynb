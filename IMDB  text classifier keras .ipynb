{
 "cells": [
  {
   "cell_type": "code",
   "execution_count": 1,
   "metadata": {},
   "outputs": [
    {
     "name": "stderr",
     "output_type": "stream",
     "text": [
      "WARNING: You are using pip version 19.1.1, however version 19.2.2 is available.\n",
      "You should consider upgrading via the 'python -m pip install --upgrade pip' command.\n"
     ]
    }
   ],
   "source": [
    "!pip install -q tf_nightly"
   ]
  },
  {
   "cell_type": "code",
   "execution_count": 3,
   "metadata": {},
   "outputs": [],
   "source": [
    "import tensorflow as tf\n",
    "from tensorflow import keras\n",
    "import numpy as np\n",
    "import matplotlib.pyplot as plt\n",
    "%matplotlib inline"
   ]
  },
  {
   "cell_type": "code",
   "execution_count": 4,
   "metadata": {},
   "outputs": [
    {
     "name": "stdout",
     "output_type": "stream",
     "text": [
      "Downloading data from https://storage.googleapis.com/tensorflow/tf-keras-datasets/imdb.npz\n",
      "17465344/17464789 [==============================] - 2s 0us/step\n"
     ]
    }
   ],
   "source": [
    "imdb = keras.datasets.imdb\n",
    "\n",
    "(train_data, train_labels), (test_data, test_labels) = imdb.load_data(num_words=10000)"
   ]
  },
  {
   "cell_type": "code",
   "execution_count": 5,
   "metadata": {},
   "outputs": [
    {
     "data": {
      "text/plain": [
       "25000"
      ]
     },
     "execution_count": 5,
     "metadata": {},
     "output_type": "execute_result"
    }
   ],
   "source": [
    "len(train_data)"
   ]
  },
  {
   "cell_type": "code",
   "execution_count": 6,
   "metadata": {},
   "outputs": [
    {
     "data": {
      "text/plain": [
       "25000"
      ]
     },
     "execution_count": 6,
     "metadata": {},
     "output_type": "execute_result"
    }
   ],
   "source": [
    "len(train_labels)"
   ]
  },
  {
   "cell_type": "code",
   "execution_count": 7,
   "metadata": {
    "collapsed": true
   },
   "outputs": [
    {
     "data": {
      "text/plain": [
       "[1,\n",
       " 14,\n",
       " 22,\n",
       " 16,\n",
       " 43,\n",
       " 530,\n",
       " 973,\n",
       " 1622,\n",
       " 1385,\n",
       " 65,\n",
       " 458,\n",
       " 4468,\n",
       " 66,\n",
       " 3941,\n",
       " 4,\n",
       " 173,\n",
       " 36,\n",
       " 256,\n",
       " 5,\n",
       " 25,\n",
       " 100,\n",
       " 43,\n",
       " 838,\n",
       " 112,\n",
       " 50,\n",
       " 670,\n",
       " 2,\n",
       " 9,\n",
       " 35,\n",
       " 480,\n",
       " 284,\n",
       " 5,\n",
       " 150,\n",
       " 4,\n",
       " 172,\n",
       " 112,\n",
       " 167,\n",
       " 2,\n",
       " 336,\n",
       " 385,\n",
       " 39,\n",
       " 4,\n",
       " 172,\n",
       " 4536,\n",
       " 1111,\n",
       " 17,\n",
       " 546,\n",
       " 38,\n",
       " 13,\n",
       " 447,\n",
       " 4,\n",
       " 192,\n",
       " 50,\n",
       " 16,\n",
       " 6,\n",
       " 147,\n",
       " 2025,\n",
       " 19,\n",
       " 14,\n",
       " 22,\n",
       " 4,\n",
       " 1920,\n",
       " 4613,\n",
       " 469,\n",
       " 4,\n",
       " 22,\n",
       " 71,\n",
       " 87,\n",
       " 12,\n",
       " 16,\n",
       " 43,\n",
       " 530,\n",
       " 38,\n",
       " 76,\n",
       " 15,\n",
       " 13,\n",
       " 1247,\n",
       " 4,\n",
       " 22,\n",
       " 17,\n",
       " 515,\n",
       " 17,\n",
       " 12,\n",
       " 16,\n",
       " 626,\n",
       " 18,\n",
       " 2,\n",
       " 5,\n",
       " 62,\n",
       " 386,\n",
       " 12,\n",
       " 8,\n",
       " 316,\n",
       " 8,\n",
       " 106,\n",
       " 5,\n",
       " 4,\n",
       " 2223,\n",
       " 5244,\n",
       " 16,\n",
       " 480,\n",
       " 66,\n",
       " 3785,\n",
       " 33,\n",
       " 4,\n",
       " 130,\n",
       " 12,\n",
       " 16,\n",
       " 38,\n",
       " 619,\n",
       " 5,\n",
       " 25,\n",
       " 124,\n",
       " 51,\n",
       " 36,\n",
       " 135,\n",
       " 48,\n",
       " 25,\n",
       " 1415,\n",
       " 33,\n",
       " 6,\n",
       " 22,\n",
       " 12,\n",
       " 215,\n",
       " 28,\n",
       " 77,\n",
       " 52,\n",
       " 5,\n",
       " 14,\n",
       " 407,\n",
       " 16,\n",
       " 82,\n",
       " 2,\n",
       " 8,\n",
       " 4,\n",
       " 107,\n",
       " 117,\n",
       " 5952,\n",
       " 15,\n",
       " 256,\n",
       " 4,\n",
       " 2,\n",
       " 7,\n",
       " 3766,\n",
       " 5,\n",
       " 723,\n",
       " 36,\n",
       " 71,\n",
       " 43,\n",
       " 530,\n",
       " 476,\n",
       " 26,\n",
       " 400,\n",
       " 317,\n",
       " 46,\n",
       " 7,\n",
       " 4,\n",
       " 2,\n",
       " 1029,\n",
       " 13,\n",
       " 104,\n",
       " 88,\n",
       " 4,\n",
       " 381,\n",
       " 15,\n",
       " 297,\n",
       " 98,\n",
       " 32,\n",
       " 2071,\n",
       " 56,\n",
       " 26,\n",
       " 141,\n",
       " 6,\n",
       " 194,\n",
       " 7486,\n",
       " 18,\n",
       " 4,\n",
       " 226,\n",
       " 22,\n",
       " 21,\n",
       " 134,\n",
       " 476,\n",
       " 26,\n",
       " 480,\n",
       " 5,\n",
       " 144,\n",
       " 30,\n",
       " 5535,\n",
       " 18,\n",
       " 51,\n",
       " 36,\n",
       " 28,\n",
       " 224,\n",
       " 92,\n",
       " 25,\n",
       " 104,\n",
       " 4,\n",
       " 226,\n",
       " 65,\n",
       " 16,\n",
       " 38,\n",
       " 1334,\n",
       " 88,\n",
       " 12,\n",
       " 16,\n",
       " 283,\n",
       " 5,\n",
       " 16,\n",
       " 4472,\n",
       " 113,\n",
       " 103,\n",
       " 32,\n",
       " 15,\n",
       " 16,\n",
       " 5345,\n",
       " 19,\n",
       " 178,\n",
       " 32]"
      ]
     },
     "execution_count": 7,
     "metadata": {},
     "output_type": "execute_result"
    }
   ],
   "source": [
    "train_data[0]"
   ]
  },
  {
   "cell_type": "code",
   "execution_count": 8,
   "metadata": {},
   "outputs": [
    {
     "data": {
      "text/plain": [
       "218"
      ]
     },
     "execution_count": 8,
     "metadata": {},
     "output_type": "execute_result"
    }
   ],
   "source": [
    "len(train_data[0])"
   ]
  },
  {
   "cell_type": "code",
   "execution_count": 9,
   "metadata": {},
   "outputs": [
    {
     "name": "stdout",
     "output_type": "stream",
     "text": [
      "Downloading data from https://storage.googleapis.com/tensorflow/tf-keras-datasets/imdb_word_index.json\n",
      "1646592/1641221 [==============================] - 0s 0us/step\n"
     ]
    }
   ],
   "source": [
    "word_index = imdb.get_word_index()\n",
    "\n",
    "word_index = {k:(v+3) for k,v in word_index.items()}\n",
    "word_index[\"<PAD>\"] = 0\n",
    "word_index[\"<START>\"] = 1\n",
    "word_index[\"<UNK>\"]=2\n",
    "word_index[\"<UNUSED>\"]=3\n",
    "\n",
    "reverse_word_index = dict([(value,key) for (key, value) in word_index.items()])\n",
    "\n",
    "def decode_review(text):\n",
    "    return ' '.join([reverse_word_index.get(i, '?') for i in text])"
   ]
  },
  {
   "cell_type": "code",
   "execution_count": 10,
   "metadata": {},
   "outputs": [
    {
     "data": {
      "text/plain": [
       "\"<START> this film was just brilliant casting location scenery story direction everyone's really suited the part they played and you could just imagine being there robert <UNK> is an amazing actor and now the same being director <UNK> father came from the same scottish island as myself so i loved the fact there was a real connection with this film the witty remarks throughout the film were great it was just brilliant so much that i bought the film as soon as it was released for <UNK> and would recommend it to everyone to watch and the fly fishing was amazing really cried at the end it was so sad and you know what they say if you cry at a film it must have been good and this definitely was also <UNK> to the two little boy's that played the <UNK> of norman and paul they were just brilliant children are often left out of the <UNK> list i think because the stars that play them all grown up are such a big profile for the whole film but these children are amazing and should be praised for what they have done don't you think the whole story was so lovely because it was true and was someone's life after all that was shared with us all\""
      ]
     },
     "execution_count": 10,
     "metadata": {},
     "output_type": "execute_result"
    }
   ],
   "source": [
    "decode_review(train_data[0])"
   ]
  },
  {
   "cell_type": "code",
   "execution_count": 12,
   "metadata": {},
   "outputs": [],
   "source": [
    "train_data = keras.preprocessing.sequence.pad_sequences(train_data,\n",
    "                                    value=word_index[\"<PAD>\"],\n",
    "                                    padding='post',\n",
    "                                    maxlen=256)\n",
    "\n",
    "test_data = keras.preprocessing.sequence.pad_sequences(test_data,\n",
    "                                    value=word_index[\"<PAD>\"],\n",
    "                                    padding='post',\n",
    "                                    maxlen=256)"
   ]
  },
  {
   "cell_type": "code",
   "execution_count": 14,
   "metadata": {},
   "outputs": [
    {
     "data": {
      "text/plain": [
       "\"<START> this film was just brilliant casting location scenery story direction everyone's really suited the part they played and you could just imagine being there robert <UNK> is an amazing actor and now the same being director <UNK> father came from the same scottish island as myself so i loved the fact there was a real connection with this film the witty remarks throughout the film were great it was just brilliant so much that i bought the film as soon as it was released for <UNK> and would recommend it to everyone to watch and the fly fishing was amazing really cried at the end it was so sad and you know what they say if you cry at a film it must have been good and this definitely was also <UNK> to the two little boy's that played the <UNK> of norman and paul they were just brilliant children are often left out of the <UNK> list i think because the stars that play them all grown up are such a big profile for the whole film but these children are amazing and should be praised for what they have done don't you think the whole story was so lovely because it was true and was someone's life after all that was shared with us all <PAD> <PAD> <PAD> <PAD> <PAD> <PAD> <PAD> <PAD> <PAD> <PAD> <PAD> <PAD> <PAD> <PAD> <PAD> <PAD> <PAD> <PAD> <PAD> <PAD> <PAD> <PAD> <PAD> <PAD> <PAD> <PAD> <PAD> <PAD> <PAD> <PAD> <PAD> <PAD> <PAD> <PAD> <PAD> <PAD> <PAD> <PAD>\""
      ]
     },
     "execution_count": 14,
     "metadata": {},
     "output_type": "execute_result"
    }
   ],
   "source": [
    "decode_review(train_data[0])"
   ]
  },
  {
   "cell_type": "code",
   "execution_count": 15,
   "metadata": {},
   "outputs": [
    {
     "data": {
      "text/plain": [
       "\"<START> big hair big boobs bad music and a giant safety pin these are the words to best describe this terrible movie i love cheesy horror movies and i've seen hundreds but this had got to be on of the worst ever made the plot is paper thin and ridiculous the acting is an abomination the script is completely laughable the best is the end showdown with the cop and how he worked out who the killer is it's just so damn terribly written the clothes are sickening and funny in equal <UNK> the hair is big lots of boobs <UNK> men wear those cut <UNK> shirts that show off their <UNK> sickening that men actually wore them and the music is just <UNK> trash that plays over and over again in almost every scene there is trashy music boobs and <UNK> taking away bodies and the gym still doesn't close for <UNK> all joking aside this is a truly bad film whose only charm is to look back on the disaster that was the 80's and have a good old laugh at how bad everything was back then <PAD> <PAD> <PAD> <PAD> <PAD> <PAD> <PAD> <PAD> <PAD> <PAD> <PAD> <PAD> <PAD> <PAD> <PAD> <PAD> <PAD> <PAD> <PAD> <PAD> <PAD> <PAD> <PAD> <PAD> <PAD> <PAD> <PAD> <PAD> <PAD> <PAD> <PAD> <PAD> <PAD> <PAD> <PAD> <PAD> <PAD> <PAD> <PAD> <PAD> <PAD> <PAD> <PAD> <PAD> <PAD> <PAD> <PAD> <PAD> <PAD> <PAD> <PAD> <PAD> <PAD> <PAD> <PAD> <PAD> <PAD> <PAD> <PAD> <PAD> <PAD> <PAD> <PAD> <PAD> <PAD> <PAD> <PAD>\""
      ]
     },
     "execution_count": 15,
     "metadata": {},
     "output_type": "execute_result"
    }
   ],
   "source": [
    "decode_review(train_data[1])"
   ]
  },
  {
   "cell_type": "code",
   "execution_count": 17,
   "metadata": {},
   "outputs": [
    {
     "name": "stdout",
     "output_type": "stream",
     "text": [
      "Model: \"sequential_1\"\n",
      "_________________________________________________________________\n",
      "Layer (type)                 Output Shape              Param #   \n",
      "=================================================================\n",
      "embedding_1 (Embedding)      (None, None, 16)          160000    \n",
      "_________________________________________________________________\n",
      "global_average_pooling1d_1 ( (None, 16)                0         \n",
      "_________________________________________________________________\n",
      "dense (Dense)                (None, 16)                272       \n",
      "_________________________________________________________________\n",
      "dense_1 (Dense)              (None, 1)                 17        \n",
      "=================================================================\n",
      "Total params: 160,289\n",
      "Trainable params: 160,289\n",
      "Non-trainable params: 0\n",
      "_________________________________________________________________\n"
     ]
    }
   ],
   "source": [
    "vocab_size = 10000\n",
    "\n",
    "model = keras.Sequential()\n",
    "model.add(keras.layers.Embedding(vocab_size, 16))\n",
    "model.add(keras.layers.GlobalAveragePooling1D())\n",
    "model.add(keras.layers.Dense(16, activation=tf.nn.relu))\n",
    "model.add(keras.layers.Dense(1, activation=tf.nn.sigmoid))\n",
    "\n",
    "model.summary()"
   ]
  },
  {
   "cell_type": "code",
   "execution_count": 18,
   "metadata": {},
   "outputs": [
    {
     "name": "stderr",
     "output_type": "stream",
     "text": [
      "W0813 17:17:37.574880 23416 deprecation.py:323] From c:\\users\\ankit.dubey\\appdata\\local\\programs\\python\\python37\\lib\\site-packages\\tensorflow_core\\python\\ops\\nn_impl.py:183: where (from tensorflow.python.ops.array_ops) is deprecated and will be removed in a future version.\n",
      "Instructions for updating:\n",
      "Use tf.where in 2.0, which has the same broadcast rule as np.where\n"
     ]
    }
   ],
   "source": [
    "model.compile(optimizer='adam', \n",
    "             loss='binary_crossentropy',\n",
    "             metrics=['acc'])"
   ]
  },
  {
   "cell_type": "code",
   "execution_count": 19,
   "metadata": {},
   "outputs": [],
   "source": [
    "x_val = train_data[:10000]\n",
    "partial_x_train = train_data[10000:]\n",
    "\n",
    "y_val = train_labels[:10000]\n",
    "partial_y_train = train_labels[10000:]"
   ]
  },
  {
   "cell_type": "code",
   "execution_count": 20,
   "metadata": {
    "collapsed": true
   },
   "outputs": [
    {
     "name": "stderr",
     "output_type": "stream",
     "text": [
      "W0813 17:19:58.821259 23416 deprecation.py:323] From c:\\users\\ankit.dubey\\appdata\\local\\programs\\python\\python37\\lib\\site-packages\\tensorflow_core\\python\\keras\\optimizer_v2\\optimizer_v2.py:455: BaseResourceVariable.constraint (from tensorflow.python.ops.resource_variable_ops) is deprecated and will be removed in a future version.\n",
      "Instructions for updating:\n",
      "Apply a constraint manually following the optimizer update step.\n"
     ]
    },
    {
     "name": "stdout",
     "output_type": "stream",
     "text": [
      "Train on 15000 samples, validate on 10000 samples\n",
      "Epoch 1/40\n",
      "14464/15000 [===========================>..] - ETA: 0s - loss: 0.6870 - acc: 0.6524Epoch 1/40\n",
      "15000/15000 [==============================] - 1s 98us/sample - loss: 0.6863 - acc: 0.6565 - val_loss: 0.6699 - val_acc: 0.7469\n",
      "Epoch 2/40\n",
      "14464/15000 [===========================>..] - ETA: 0s - loss: 0.6196 - acc: 0.7801Epoch 1/40\n",
      "15000/15000 [==============================] - 1s 86us/sample - loss: 0.6169 - acc: 0.7822 - val_loss: 0.5556 - val_acc: 0.8054\n",
      "Epoch 3/40\n",
      "14720/15000 [============================>.] - ETA: 0s - loss: 0.4746 - acc: 0.8393Epoch 1/40\n",
      "15000/15000 [==============================] - 1s 99us/sample - loss: 0.4733 - acc: 0.8401 - val_loss: 0.4245 - val_acc: 0.8460\n",
      "Epoch 4/40\n",
      "14592/15000 [============================>.] - ETA: 0s - loss: 0.3588 - acc: 0.8760Epoch 1/40\n",
      "15000/15000 [==============================] - 1s 91us/sample - loss: 0.3576 - acc: 0.8768 - val_loss: 0.3522 - val_acc: 0.8647\n",
      "Epoch 5/40\n",
      "14976/15000 [============================>.] - ETA: 0s - loss: 0.2912 - acc: 0.8940Epoch 1/40\n",
      "15000/15000 [==============================] - 1s 98us/sample - loss: 0.2912 - acc: 0.8940 - val_loss: 0.3157 - val_acc: 0.8752\n",
      "Epoch 6/40\n",
      "14720/15000 [============================>.] - ETA: 0s - loss: 0.2504 - acc: 0.9078Epoch 1/40\n",
      "15000/15000 [==============================] - 1s 83us/sample - loss: 0.2493 - acc: 0.9080 - val_loss: 0.2970 - val_acc: 0.8815\n",
      "Epoch 7/40\n",
      "14720/15000 [============================>.] - ETA: 0s - loss: 0.2187 - acc: 0.9207Epoch 1/40\n",
      "15000/15000 [==============================] - 1s 86us/sample - loss: 0.2195 - acc: 0.9204 - val_loss: 0.2893 - val_acc: 0.8816\n",
      "Epoch 8/40\n",
      "14976/15000 [============================>.] - ETA: 0s - loss: 0.1956 - acc: 0.9298Epoch 1/40\n",
      "15000/15000 [==============================] - 1s 95us/sample - loss: 0.1955 - acc: 0.9298 - val_loss: 0.2820 - val_acc: 0.8876\n",
      "Epoch 9/40\n",
      "14720/15000 [============================>.] - ETA: 0s - loss: 0.1758 - acc: 0.9387Epoch 1/40\n",
      "15000/15000 [==============================] - 1s 93us/sample - loss: 0.1756 - acc: 0.9387 - val_loss: 0.2843 - val_acc: 0.8839\n",
      "Epoch 10/40\n",
      "14592/15000 [============================>.] - ETA: 0s - loss: 0.1594 - acc: 0.9468Epoch 1/40\n",
      "15000/15000 [==============================] - 1s 94us/sample - loss: 0.1592 - acc: 0.9467 - val_loss: 0.2821 - val_acc: 0.8880\n",
      "Epoch 11/40\n",
      "14592/15000 [============================>.] - ETA: 0s - loss: 0.1425 - acc: 0.9552Epoch 1/40\n",
      "15000/15000 [==============================] - 1s 92us/sample - loss: 0.1427 - acc: 0.9547 - val_loss: 0.2853 - val_acc: 0.8884\n",
      "Epoch 12/40\n",
      "14720/15000 [============================>.] - ETA: 0s - loss: 0.1298 - acc: 0.9591Epoch 1/40\n",
      "15000/15000 [==============================] - 1s 88us/sample - loss: 0.1298 - acc: 0.9589 - val_loss: 0.2916 - val_acc: 0.8861\n",
      "Epoch 13/40\n",
      "14464/15000 [===========================>..] - ETA: 0s - loss: 0.1176 - acc: 0.9647- ETA: 0s - loss: 0.1123 - Epoch 1/40\n",
      "15000/15000 [==============================] - 2s 110us/sample - loss: 0.1184 - acc: 0.9641 - val_loss: 0.2969 - val_acc: 0.8871\n",
      "Epoch 14/40\n",
      "14720/15000 [============================>.] - ETA: 0s - loss: 0.1068 - acc: 0.9690Epoch 1/40\n",
      "15000/15000 [==============================] - 1s 100us/sample - loss: 0.1075 - acc: 0.9688 - val_loss: 0.3045 - val_acc: 0.8862\n",
      "Epoch 15/40\n",
      "14976/15000 [============================>.] - ETA: 0s - loss: 0.0976 - acc: 0.9735Epoch 1/40\n",
      "15000/15000 [==============================] - 2s 103us/sample - loss: 0.0976 - acc: 0.9735 - val_loss: 0.3151 - val_acc: 0.8830\n",
      "Epoch 16/40\n",
      "14720/15000 [============================>.] - ETA: 0s - loss: 0.0884 - acc: 0.9751Epoch 1/40\n",
      "15000/15000 [==============================] - 2s 105us/sample - loss: 0.0886 - acc: 0.9751 - val_loss: 0.3332 - val_acc: 0.8787\n",
      "Epoch 17/40\n",
      "14848/15000 [============================>.] - ETA: 0s - loss: 0.0811 - acc: 0.9786Epoch 1/40\n",
      "15000/15000 [==============================] - 1s 93us/sample - loss: 0.0808 - acc: 0.9787 - val_loss: 0.3344 - val_acc: 0.8811\n",
      "Epoch 18/40\n",
      "14720/15000 [============================>.] - ETA: 0s - loss: 0.0737 - acc: 0.9817Epoch 1/40\n",
      "15000/15000 [==============================] - 1s 95us/sample - loss: 0.0733 - acc: 0.9817 - val_loss: 0.3456 - val_acc: 0.8792\n",
      "Epoch 19/40\n",
      "14336/15000 [===========================>..] - ETA: 0s - loss: 0.0666 - acc: 0.9840Epoch 1/40\n",
      "15000/15000 [==============================] - 1s 90us/sample - loss: 0.0661 - acc: 0.9843 - val_loss: 0.3610 - val_acc: 0.8776\n",
      "Epoch 20/40\n",
      "14976/15000 [============================>.] - ETA: 0s - loss: 0.0599 - acc: 0.9864Epoch 1/40\n",
      "15000/15000 [==============================] - 1s 89us/sample - loss: 0.0599 - acc: 0.9865 - val_loss: 0.3713 - val_acc: 0.8775\n",
      "Epoch 21/40\n",
      "14464/15000 [===========================>..] - ETA: 0s - loss: 0.0544 - acc: 0.9891Epoch 1/40\n",
      "15000/15000 [==============================] - 1s 87us/sample - loss: 0.0546 - acc: 0.9891 - val_loss: 0.3883 - val_acc: 0.8750\n",
      "Epoch 22/40\n",
      "14336/15000 [===========================>..] - ETA: 0s - loss: 0.0493 - acc: 0.9904Epoch 1/40\n",
      "15000/15000 [==============================] - 1s 86us/sample - loss: 0.0495 - acc: 0.9903 - val_loss: 0.4036 - val_acc: 0.8744\n",
      "Epoch 23/40\n",
      "14976/15000 [============================>.] - ETA: 0s - loss: 0.0445 - acc: 0.9917Epoch 1/40\n",
      "15000/15000 [==============================] - 1s 95us/sample - loss: 0.0444 - acc: 0.9917 - val_loss: 0.4166 - val_acc: 0.8732\n",
      "Epoch 24/40\n",
      "14592/15000 [============================>.] - ETA: 0s - loss: 0.0408 - acc: 0.9929Epoch 1/40\n",
      "15000/15000 [==============================] - 1s 92us/sample - loss: 0.0407 - acc: 0.9929 - val_loss: 0.4261 - val_acc: 0.8752\n",
      "Epoch 25/40\n",
      "14976/15000 [============================>.] - ETA: 0s - loss: 0.0359 - acc: 0.9941Epoch 1/40\n",
      "15000/15000 [==============================] - 2s 111us/sample - loss: 0.0363 - acc: 0.9941 - val_loss: 0.4540 - val_acc: 0.8695\n",
      "Epoch 26/40\n",
      "14976/15000 [============================>.] - ETA: 0s - loss: 0.0329 - acc: 0.9947Epoch 1/40\n",
      "15000/15000 [==============================] - 1s 94us/sample - loss: 0.0329 - acc: 0.9947 - val_loss: 0.4551 - val_acc: 0.8727\n",
      "Epoch 27/40\n",
      "14720/15000 [============================>.] - ETA: 0s - loss: 0.0288 - acc: 0.9957Epoch 1/40\n",
      "15000/15000 [==============================] - 1s 85us/sample - loss: 0.0287 - acc: 0.9958 - val_loss: 0.4727 - val_acc: 0.8700\n",
      "Epoch 28/40\n",
      "14720/15000 [============================>.] - ETA: 0s - loss: 0.0248 - acc: 0.9967Epoch 1/40\n",
      "15000/15000 [==============================] - 1s 87us/sample - loss: 0.0254 - acc: 0.9967 - val_loss: 0.4899 - val_acc: 0.8694\n",
      "Epoch 29/40\n",
      "14848/15000 [============================>.] - ETA: 0s - loss: 0.0226 - acc: 0.9973Epoch 1/40\n",
      "15000/15000 [==============================] - 2s 102us/sample - loss: 0.0226 - acc: 0.9973 - val_loss: 0.5105 - val_acc: 0.8675\n",
      "Epoch 30/40\n",
      "14848/15000 [============================>.] - ETA: 0s - loss: 0.0202 - acc: 0.9973Epoch 1/40\n",
      "15000/15000 [==============================] - 2s 102us/sample - loss: 0.0201 - acc: 0.9973 - val_loss: 0.5239 - val_acc: 0.8673\n",
      "Epoch 31/40\n",
      "14848/15000 [============================>.] - ETA: 0s - loss: 0.0179 - acc: 0.9980Epoch 1/40\n",
      "15000/15000 [==============================] - 1s 96us/sample - loss: 0.0178 - acc: 0.9981 - val_loss: 0.5447 - val_acc: 0.8669\n",
      "Epoch 32/40\n",
      "14592/15000 [============================>.] - ETA: 0s - loss: 0.0161 - acc: 0.9985Epoch 1/40\n",
      "15000/15000 [==============================] - 1s 98us/sample - loss: 0.0160 - acc: 0.9985 - val_loss: 0.5552 - val_acc: 0.8665\n",
      "Epoch 33/40\n",
      "14848/15000 [============================>.] - ETA: 0s - loss: 0.0144 - acc: 0.9987Epoch 1/40\n",
      "15000/15000 [==============================] - 1s 91us/sample - loss: 0.0143 - acc: 0.9987 - val_loss: 0.5736 - val_acc: 0.8650\n",
      "Epoch 34/40\n",
      "14976/15000 [============================>.] - ETA: 0s - loss: 0.0126 - acc: 0.9990Epoch 1/40\n",
      "15000/15000 [==============================] - 2s 107us/sample - loss: 0.0126 - acc: 0.9990 - val_loss: 0.5905 - val_acc: 0.8649\n",
      "Epoch 35/40\n",
      "14720/15000 [============================>.] - ETA: 0s - loss: 0.0113 - acc: 0.9991Epoch 1/40\n"
     ]
    },
    {
     "name": "stdout",
     "output_type": "stream",
     "text": [
      "15000/15000 [==============================] - 2s 102us/sample - loss: 0.0112 - acc: 0.9991 - val_loss: 0.6052 - val_acc: 0.8648\n",
      "Epoch 36/40\n",
      "14592/15000 [============================>.] - ETA: 0s - loss: 0.0101 - acc: 0.9992Epoch 1/40\n",
      "15000/15000 [==============================] - 2s 105us/sample - loss: 0.0101 - acc: 0.9993 - val_loss: 0.6170 - val_acc: 0.8644\n",
      "Epoch 37/40\n",
      "14464/15000 [===========================>..] - ETA: 0s - loss: 0.0087 - acc: 0.9994Epoch 1/40\n",
      "15000/15000 [==============================] - 1s 93us/sample - loss: 0.0086 - acc: 0.9994 - val_loss: 0.6369 - val_acc: 0.8643\n",
      "Epoch 38/40\n",
      "14976/15000 [============================>.] - ETA: 0s - loss: 0.0074 - acc: 0.9996Epoch 1/40\n",
      "15000/15000 [==============================] - 1s 86us/sample - loss: 0.0074 - acc: 0.9996 - val_loss: 0.6549 - val_acc: 0.8633\n",
      "Epoch 39/40\n",
      "14464/15000 [===========================>..] - ETA: 0s - loss: 0.0064 - acc: 0.9997Epoch 1/40\n",
      "15000/15000 [==============================] - 1s 91us/sample - loss: 0.0064 - acc: 0.9997 - val_loss: 0.6675 - val_acc: 0.8624\n",
      "Epoch 40/40\n",
      "14720/15000 [============================>.] - ETA: 0s - loss: 0.0056 - acc: 0.9998Epoch 1/40\n",
      "15000/15000 [==============================] - 1s 81us/sample - loss: 0.0056 - acc: 0.9998 - val_loss: 0.6834 - val_acc: 0.8630\n"
     ]
    }
   ],
   "source": [
    "history = model.fit(partial_x_train,partial_y_train,\n",
    "                   epochs=40,\n",
    "                   batch_size=128,\n",
    "                   validation_data=(x_val, y_val),\n",
    "                   verbose=1)"
   ]
  },
  {
   "cell_type": "code",
   "execution_count": 21,
   "metadata": {},
   "outputs": [
    {
     "name": "stdout",
     "output_type": "stream",
     "text": [
      "25000/25000 [==============================] - 1s 32us/sample - loss: 0.7288 - acc: 0.8506\n",
      "[0.7288106567573548, 0.85064]\n"
     ]
    }
   ],
   "source": [
    "results = model.evaluate(test_data, test_labels)\n",
    "print(results)"
   ]
  },
  {
   "cell_type": "code",
   "execution_count": 22,
   "metadata": {},
   "outputs": [
    {
     "data": {
      "text/plain": [
       "dict_keys(['loss', 'acc', 'val_loss', 'val_acc'])"
      ]
     },
     "execution_count": 22,
     "metadata": {},
     "output_type": "execute_result"
    }
   ],
   "source": [
    "history_dict = history.history\n",
    "history_dict.keys()"
   ]
  },
  {
   "cell_type": "code",
   "execution_count": 23,
   "metadata": {
    "collapsed": true
   },
   "outputs": [
    {
     "data": {
      "text/plain": [
       "{'loss': [0.6863487977663676,\n",
       "  0.6169289734840393,\n",
       "  0.4732929629484812,\n",
       "  0.35758371742566425,\n",
       "  0.29117002936999004,\n",
       "  0.24928439423243204,\n",
       "  0.21952779664993285,\n",
       "  0.1954622576077779,\n",
       "  0.17559686253468196,\n",
       "  0.15921881726781528,\n",
       "  0.1426518761952718,\n",
       "  0.12978863480091096,\n",
       "  0.11841756904919942,\n",
       "  0.10748205762704213,\n",
       "  0.09757782918214798,\n",
       "  0.08856530742744605,\n",
       "  0.0808309070388476,\n",
       "  0.07333024309873581,\n",
       "  0.066051025446256,\n",
       "  0.0598609850247701,\n",
       "  0.05461672298113505,\n",
       "  0.04946506737073263,\n",
       "  0.04444559257427851,\n",
       "  0.04068564370572567,\n",
       "  0.036282908391952515,\n",
       "  0.03293625922401746,\n",
       "  0.02871887045701345,\n",
       "  0.025408554570873577,\n",
       "  0.02260919688741366,\n",
       "  0.0201389227733016,\n",
       "  0.017840798337757587,\n",
       "  0.0160030146141847,\n",
       "  0.014344592779378097,\n",
       "  0.012636694460610548,\n",
       "  0.011226591929545005,\n",
       "  0.010098697972794373,\n",
       "  0.008567767407248418,\n",
       "  0.007431416423122088,\n",
       "  0.006383837503939867,\n",
       "  0.005629407643154264],\n",
       " 'acc': [0.65653336,\n",
       "  0.7822,\n",
       "  0.8400667,\n",
       "  0.8768,\n",
       "  0.894,\n",
       "  0.908,\n",
       "  0.9204,\n",
       "  0.9298,\n",
       "  0.93866664,\n",
       "  0.94673336,\n",
       "  0.9547333,\n",
       "  0.95893335,\n",
       "  0.9640667,\n",
       "  0.9688,\n",
       "  0.9734667,\n",
       "  0.97506666,\n",
       "  0.97873336,\n",
       "  0.9817333,\n",
       "  0.98426664,\n",
       "  0.98646665,\n",
       "  0.98913336,\n",
       "  0.9903333,\n",
       "  0.9916667,\n",
       "  0.99293333,\n",
       "  0.99406666,\n",
       "  0.99473333,\n",
       "  0.9958,\n",
       "  0.99666667,\n",
       "  0.99733335,\n",
       "  0.99733335,\n",
       "  0.99806666,\n",
       "  0.9985333,\n",
       "  0.99873334,\n",
       "  0.999,\n",
       "  0.99913335,\n",
       "  0.9992667,\n",
       "  0.9994,\n",
       "  0.9996,\n",
       "  0.9997333,\n",
       "  0.9998],\n",
       " 'val_loss': [0.6699143688201904,\n",
       "  0.5555710582733154,\n",
       "  0.4244602650642395,\n",
       "  0.35219714841842653,\n",
       "  0.31568427028656004,\n",
       "  0.29698479833602903,\n",
       "  0.2892554102897644,\n",
       "  0.28197811946868895,\n",
       "  0.28426406865119935,\n",
       "  0.2821097817897797,\n",
       "  0.2853028670787811,\n",
       "  0.2915966903686523,\n",
       "  0.29686178398132324,\n",
       "  0.3044632556915283,\n",
       "  0.3150533475399017,\n",
       "  0.3332468754410744,\n",
       "  0.33441571426391603,\n",
       "  0.34561661722660064,\n",
       "  0.36098543796539306,\n",
       "  0.3712866118431091,\n",
       "  0.38827095022201535,\n",
       "  0.40357778873443606,\n",
       "  0.4166204310894012,\n",
       "  0.4260921738624573,\n",
       "  0.4540171661198139,\n",
       "  0.45512419500350954,\n",
       "  0.47271745300292967,\n",
       "  0.48987610173225404,\n",
       "  0.5105161659240722,\n",
       "  0.5239333195209503,\n",
       "  0.5446715326994658,\n",
       "  0.5551754641830922,\n",
       "  0.573643532371521,\n",
       "  0.5904567435264587,\n",
       "  0.6051740211009979,\n",
       "  0.6170249006271362,\n",
       "  0.6368554843902587,\n",
       "  0.6549160582542419,\n",
       "  0.6674645487785339,\n",
       "  0.6834068258285523],\n",
       " 'val_acc': [0.7469,\n",
       "  0.8054,\n",
       "  0.846,\n",
       "  0.8647,\n",
       "  0.8752,\n",
       "  0.8815,\n",
       "  0.8816,\n",
       "  0.8876,\n",
       "  0.8839,\n",
       "  0.888,\n",
       "  0.8884,\n",
       "  0.8861,\n",
       "  0.8871,\n",
       "  0.8862,\n",
       "  0.883,\n",
       "  0.8787,\n",
       "  0.8811,\n",
       "  0.8792,\n",
       "  0.8776,\n",
       "  0.8775,\n",
       "  0.875,\n",
       "  0.8744,\n",
       "  0.8732,\n",
       "  0.8752,\n",
       "  0.8695,\n",
       "  0.8727,\n",
       "  0.87,\n",
       "  0.8694,\n",
       "  0.8675,\n",
       "  0.8673,\n",
       "  0.8669,\n",
       "  0.8665,\n",
       "  0.865,\n",
       "  0.8649,\n",
       "  0.8648,\n",
       "  0.8644,\n",
       "  0.8643,\n",
       "  0.8633,\n",
       "  0.8624,\n",
       "  0.863]}"
      ]
     },
     "execution_count": 23,
     "metadata": {},
     "output_type": "execute_result"
    }
   ],
   "source": [
    "history.history"
   ]
  },
  {
   "cell_type": "code",
   "execution_count": 24,
   "metadata": {},
   "outputs": [],
   "source": [
    "acc = history_dict['acc']\n",
    "val_acc = history_dict['val_acc']\n",
    "loss = history_dict['loss']\n",
    "val_loss = history_dict['val_loss']"
   ]
  },
  {
   "cell_type": "code",
   "execution_count": 25,
   "metadata": {},
   "outputs": [
    {
     "data": {
      "image/png": "[encoded data removed]",
      "text/plain": [
       "<Figure size 432x288 with 1 Axes>"
      ]
     },
     "metadata": {
      "needs_background": "light"
     },
     "output_type": "display_data"
    }
   ],
   "source": [
    "epochs= range(1, len(acc)+1)\n",
    "\n",
    "plt.plot(epochs, loss, 'bo', label='Training loss')\n",
    "plt.plot(epochs, val_loss, 'b', label='Validation loss')\n",
    "plt.title('Training and validation loss')\n",
    "plt.xlabel('Epochs')\n",
    "plt.ylabel('Loss')\n",
    "plt.legend()\n",
    "plt.show()"
   ]
  },
  {
   "cell_type": "code",
   "execution_count": 26,
   "metadata": {},
   "outputs": [
    {
     "data": {
      "image/png": "[encoded data removed]",
      "text/plain": [
       "<Figure size 432x288 with 1 Axes>"
      ]
     },
     "metadata": {
      "needs_background": "light"
     },
     "output_type": "display_data"
    }
   ],
   "source": [
    "epochs= range(1, len(acc)+1)\n",
    "\n",
    "plt.plot(epochs, acc, 'bo', label='Training loss')\n",
    "plt.plot(epochs, val_acc, 'b', label='Validation loss')\n",
    "plt.title('Training and validation accuracy')\n",
    "plt.xlabel('Epochs')\n",
    "plt.ylabel('Accuracy')\n",
    "plt.legend()\n",
    "plt.show()"
   ]
  },
  {
   "cell_type": "code",
   "execution_count": null,
   "metadata": {},
   "outputs": [],
   "source": []
  }
 ],
 "metadata": {
  "kernelspec": {
   "display_name": "Python 3",
   "language": "python",
   "name": "python3"
  },
  "language_info": {
   "codemirror_mode": {
    "name": "ipython",
    "version": 3
   },
   "file_extension": ".py",
   "mimetype": "text/x-python",
   "name": "python",
   "nbconvert_exporter": "python",
   "pygments_lexer": "ipython3",
   "version": "3.7.2"
  }
 },
 "nbformat": 4,
 "nbformat_minor": 2
}
